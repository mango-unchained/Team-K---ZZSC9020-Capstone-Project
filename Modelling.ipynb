{
 "cells": [
  {
   "cell_type": "code",
   "execution_count": 40,
   "id": "9a53e1b5-e3d8-4df6-92de-6b1d97c37f08",
   "metadata": {
    "editable": true,
    "slideshow": {
     "slide_type": ""
    },
    "tags": []
   },
   "outputs": [],
   "source": [
    "import pandas as pd\n",
    "import numpy as np\n",
    "from glob import glob\n",
    "from re import match, sub\n",
    "from missingno import matrix as mmatrix\n",
    "from matplotlib import pyplot as plt\n",
    "import matplotlib.ticker as ticker\n",
    "import seaborn as sns\n",
    "from math import ceil\n",
    "from datetime import datetime, timedelta\n",
    "from scipy.stats import pearsonr\n",
    "from statsmodels.formula.api import ols\n",
    "from os import listdir, getenv\n",
    "from sys import stdout\n",
    "from collections import defaultdict\n",
    "from tqdm import tqdm\n",
    "from itertools import product\n",
    "from json import dumps\n",
    "from copy import copy\n",
    "\n",
    "from sklearn.model_selection import TimeSeriesSplit, train_test_split\n",
    "from sklearn.neural_network import MLPRegressor\n",
    "from sklearn.preprocessing import StandardScaler, OneHotEncoder\n",
    "from sklearn.metrics import mean_squared_error, mean_absolute_error, r2_score\n",
    "\n",
    "import tensorflow as tf\n",
    "from tensorflow.keras.layers import Input, Dense, BatchNormalization, LSTM, Bidirectional\n",
    "from tensorflow.keras.models import Model, Sequential, load_model\n",
    "from tensorflow.keras.optimizers import Adam\n",
    "from tensorflow.keras.losses import MeanSquaredError, MAPE, MeanAbsolutePercentageError, MSE\n",
    "from tensorflow.keras.callbacks import Callback, EarlyStopping, LearningRateScheduler, History, ModelCheckpoint\n",
    "from tensorflow.keras.regularizers import L1\n"
   ]
  },
  {
   "cell_type": "code",
   "execution_count": 41,
   "id": "09973142-da18-4b0f-a523-617d9c6b4e55",
   "metadata": {},
   "outputs": [
    {
     "name": "stdout",
     "output_type": "stream",
     "text": [
      "Training:   0%|\u001b[32m                    \u001b[0m| 0/42 epochs completed [40:11:05<22861:11:47, 1962975.56s/ step]\u001b[0m\n"
     ]
    }
   ],
   "source": [
    "def scheduler1(epoch, lr): # Winner\n",
    "    return 0.0001 if epoch % 2 == 1 else 0.001\n",
    "    \n",
    "def scheduler2(epoch, lr):\n",
    "    return 0.0001 if ((epoch % 2 == 1) or (epoch > epochs/2)) else 0.001\n",
    "    \n",
    "def scheduler3(epoch, lr):\n",
    "    return 0.0001\n",
    "\n",
    "def scheduler4(epoch, lr):\n",
    "    return 0.0001 if ((epoch % 2 == 1) or (epoch > epochs-100)) else 0.001\n",
    "\n",
    "class ProgressBar(Callback):\n",
    "\n",
    "    # def __init__(self, schedule):\n",
    "    #     super().__init__()\n",
    "\n",
    "    def on_train_begin(self, logs=None):\n",
    "        self.epochs = self.__dict__['params']['epochs']\n",
    "        self.steps = self.__dict__['params']['steps'] \n",
    "        self.total_steps = self.steps * self.epochs\n",
    "        self.progress_bar = tqdm(\n",
    "            desc='Training', total=self.total_steps, unit=' step', smoothing=0,\n",
    "            file=stdout, colour='green', position=0, ncols=100, unit_scale=1/self.steps,\n",
    "            bar_format='{l_bar}{bar}| {n:.0f}/{total:.0f} epochs completed [{elapsed}<{remaining}, {rate_fmt}]',\n",
    "        )\n",
    "        # if 'MLP' in self.model.name:\n",
    "        #     self.epoch_update = self.steps\n",
    "        #     self.batch_update = 0\n",
    "        # else:\n",
    "        #     self.epoch_update = 0\n",
    "        #     self.batch_update = 1\n",
    "\n",
    "    # def on_epoch_end(self, batch, logs=None):\n",
    "    #     self.progress_bar.update(self.epoch_update)\n",
    "\n",
    "    def on_batch_end(self, batch, logs=None):\n",
    "        self.progress_bar.update(1)\n",
    "\n",
    "    def on_train_end(self, logs=None):\n",
    "        self.progress_bar.close()\n",
    "\n",
    "class SaveTrainTime(Callback):\n",
    "\n",
    "    def on_train_begin(self, logs=None):\n",
    "        self.start_time = datetime.now()\n",
    "\n",
    "    def on_train_end(self, logs=None):\n",
    "        ttimes = pd.read_csv('models/train_times.csv')\n",
    "        ttimes.train_time = ttimes.train_time.astype('timedelta64[ns]')\n",
    "        params = self.__dict__['params']\n",
    "        ttimes = pd.concat([\n",
    "            ttimes,\n",
    "            pd.DataFrame([[\n",
    "                self.model.name, \n",
    "                self.start_time, \n",
    "                datetime.now() - self.start_time, \n",
    "                params['epochs'], \n",
    "                params['steps'],\n",
    "            ]], columns=ttimes.columns) # model,start_time,train_time,epochs,steps\n",
    "        ])\n",
    "        \n",
    "        ttimes.to_csv('models/train_times.csv', index=False)\n",
    "\n",
    "def get_MLP(X_train, n_hidden=1, univariate=False, model_prefix=''):\n",
    "    \"\"\"Build and train a multilayer perception. Return the uncompiled model.\n",
    "\n",
    "    Args:\n",
    "        X_train (tf.Tensor): Input training data.\n",
    "        n_hidden (int): Number of hidden layer in neural network.\n",
    "\n",
    "    Returns:\n",
    "        model (keras.src.models.functional.Functional): The uncompiled model. !!!!\n",
    "    \"\"\"\n",
    "    tf.keras.utils.set_random_seed(1)\n",
    "    \n",
    "    main_input = Input(shape=tuple(X_train[0].shape), name=\"input\")\n",
    "    previous_layer = main_input\n",
    "    for i in range(n_hidden):\n",
    "        if i % 2 == 1:\n",
    "            previous_layer = Dense(32, name=f\"linear_{i+1}\", activation='linear')(previous_layer)\n",
    "        else:\n",
    "            previous_layer = Dense(32, name=f\"relu_{i+1}\", activation='relu')(previous_layer)\n",
    "    \n",
    "    main_output = Dense(2, name=f\"output\")(previous_layer)\n",
    "    \n",
    "    model_prefix = model_prefix + '_' if model_prefix else model_prefix\n",
    "    name = f\"{model_prefix}MLP_{'shallow' if n_hidden <= 1 else 'deep'}_{'univ' if univariate else 'multiv'}\"\n",
    "    \n",
    "    return {\n",
    "        'model': Model(inputs=main_input, outputs=main_output, name=name),\n",
    "        'univariate': univariate,\n",
    "        'X_train': X_train,\n",
    "    }\n",
    "\n",
    "def get_LSTM(X_train, n_hidden=1, univariate=False, model_prefix=''):\n",
    "    \"\"\"Build a bidirectional LSTM. Return the uncompiled model.\n",
    "\n",
    "    Args:\n",
    "        X_train (tf.Tensor): Input training data.\n",
    "        n_hidden (int): Number of hidden layer in neural network.\n",
    "\n",
    "    Returns:\n",
    "        model (keras.src.models.functional.Functional): The uncompiled model.\n",
    "    \"\"\"\n",
    "    tf.keras.utils.set_random_seed(1)\n",
    "    \n",
    "    main_input = Input(shape=(X_train[0].shape[0],1), name=\"input\")\n",
    "    previous_layer = main_input\n",
    "    for i in range(n_hidden-1):\n",
    "        previous_layer = Bidirectional(\n",
    "            LSTM(2**(4+n_hidden-i), return_sequences=True), name=f\"BD_{i+1}\"\n",
    "        )(previous_layer)\n",
    "    previous_layer = Bidirectional(LSTM(2**5), name=f\"BD_{n_hidden}\")(previous_layer)\n",
    "    \n",
    "    main_output = Dense(2, name=f\"output\")(previous_layer)\n",
    "\n",
    "    model_prefix = model_prefix + '_' if model_prefix else model_prefix\n",
    "    name = f\"{model_prefix}LSTM_{'shallow' if n_hidden <= 1 else 'deep'}_{'univ' if univariate else 'multiv'}\"\n",
    "    \n",
    "    return {\n",
    "        'X_train': X_train,\n",
    "        'model': Model(inputs=main_input, outputs=main_output, name=name),\n",
    "        'univariate': univariate,\n",
    "    }\n",
    "\n",
    "def _compile_model(y_train, X_val, y_val, X_train, model, univariate=False, epochs=2000, opt_params={}):\n",
    "    \"\"\"Train an uncompiled Tensorflow model. Return the trained model and its training history.\n",
    "\n",
    "    Args:\n",
    "        model (keras.src.models.functional.Functional): The uncompiled model.\n",
    "        X_train (tf.Tensor): Input training data.\n",
    "        y_train (tf.Tensor): Target training data.\n",
    "        X_val (tf.Tensor): Input validation data.\n",
    "        y_val (tf.Tensor): Target validation data.\n",
    "        lr_scheduler (function): Function defining the learning rate schedule for fitting the model.\n",
    "        weight_decay (float): Weight decay hyperparameter value.\n",
    "        epochs (int): Number of training epochs.\n",
    "        univariate (bool): True if model is univariate and False if multivariate.\n",
    "        model_type (str): Label of model family.\n",
    "        verbose (bool): Verbosity mode when fitting the model.\n",
    "\n",
    "    Returns:\n",
    "        model (keras.src.models.functional.Functional): The trained model.\n",
    "        history (pd.DataFrame): The record of training and validation loss and metric values at successive epochs.\n",
    "    \"\"\"\n",
    "    \n",
    "    model.compile(\n",
    "        optimizer=Adam(**opt_params), \n",
    "        loss=MeanAbsolutePercentageError(), \n",
    "        metrics=[MSE]\n",
    "    )\n",
    "    return model\n",
    "\n",
    "lstm_opt_params = {'weight_decay': 1e-05, 'beta_1': 0.8}\n",
    "\n",
    "def train_model(y_train, X_val, y_val, X_train, model, univariate=False, epochs=2000, opt_params={}, fit_params={}):\n",
    "    \"\"\"Train an uncompiled Tensorflow model. Return the trained model and its training history.\n",
    "\n",
    "    Args:\n",
    "        model (keras.src.models.functional.Functional): The uncompiled model.\n",
    "        X_train (tf.Tensor): Input training data.\n",
    "        y_train (tf.Tensor): Target training data.\n",
    "        X_val (tf.Tensor): Input validation data.\n",
    "        y_val (tf.Tensor): Target validation data.\n",
    "        lr_scheduler (function): Function defining the learning rate schedule for fitting the model.\n",
    "        weight_decay (float): Weight decay hyperparameter value.\n",
    "        epochs (int): Number of training epochs.\n",
    "        univariate (bool): True if model is univariate and False if multivariate.\n",
    "        verbose (bool): Verbosity mode when fitting the model.\n",
    "\n",
    "    Returns:\n",
    "        model (keras.src.models.functional.Functional): The trained model.\n",
    "        history (pd.DataFrame): The record of training and validation loss and metric values at successive epochs.\n",
    "    \"\"\"\n",
    "    if 'MLP' in model.name:\n",
    "        opt_params = opt_params if opt_params else {'weight_decay': 1e-05, 'beta_1': 0.95}\n",
    "        fit_params = fit_params if fit_params else {'batch_size': 2**8}\n",
    "        model_checkpoints = ModelCheckpoint(f\"models/{model.name}.keras\", save_best_only=True)\n",
    "    elif 'LSTM' in model.name:\n",
    "        opt_params = opt_params if opt_params else lstm_opt_params\n",
    "        fit_params = fit_params if fit_params else {'batch_size': 2**8}\n",
    "        model_checkpoints = ModelCheckpoint(f\"models/{model.name}.weights.h5\", save_best_only=True, save_weights_only=True)\n",
    "\n",
    "    model = _compile_model(y_train, X_val, y_val, X_train, model, univariate, epochs=epochs, opt_params=opt_params)\n",
    "    \n",
    "    history = model.fit(\n",
    "        X_train, y_train, verbose=0, shuffle=False, epochs=epochs,\n",
    "            validation_data=(X_val, y_val), callbacks=[\n",
    "            model_checkpoints,\n",
    "            LearningRateScheduler(scheduler1),\n",
    "            ProgressBar(),\n",
    "            SaveTrainTime(),\n",
    "        ], **fit_params\n",
    "    )\n",
    "    history = pd.DataFrame(history.history)\n",
    "    history.to_csv(f'models/{model.name} history.csv', index=False, lineterminator='\\n')\n",
    "    \n",
    "    return model, history\n",
    "\n",
    "def flatten_params(param_grid):\n",
    "    \"\"\"Take a paramater grid and return a flattened list of each possible combination of the parameters.\"\"\"\n",
    "    return [\n",
    "        dict(zip(param_grid.keys(), e)) \n",
    "        for e in product(*param_grid.values())\n",
    "    ]\n",
    "\n",
    "def GridSearchCV(estimator, param_grid, epochs):\n",
    "    \"\"\"Take a callable model generator and a parameter grid and return the best possible set of parameters given the specified epochs.\n",
    "\n",
    "    Args:\n",
    "        estimator (function): A function that returns an uncompiled model.\n",
    "        param_grid (dict): A dictionary of lists of hyperparameters specifiying the hyperparameter space to be searched.\n",
    "\n",
    "    Returns:\n",
    "        dict: The hyperparameters used to train the best model.\n",
    "    \"\"\"\n",
    "    est_params = {}\n",
    "    opt_params = {}\n",
    "    params = {}\n",
    "    for k, v in param_grid.items():\n",
    "        if (est_lab := 'estimator__') in k:\n",
    "            est_params.update({k.replace(est_lab, ''): v})\n",
    "        elif (opt_lab := 'optimizer__') in k:\n",
    "            opt_params.update({k.replace(opt_lab, ''): v})\n",
    "        else:\n",
    "            params.update({k: v})\n",
    "            \n",
    "    param_grid_list = flatten_params({\n",
    "        'est_params': flatten_params(est_params), \n",
    "        'opt_params': flatten_params(opt_params), \n",
    "        'params': flatten_params(params),\n",
    "    })\n",
    "    n_iter = len(param_grid_list)\n",
    "    results = defaultdict(list)\n",
    "    \n",
    "    for i in tqdm(range(n_iter), desc='Searching hyperparameter space', file=stdout, colour='green'):\n",
    "        param_grid = param_grid_list[i]\n",
    "        for j in range(len(X_train_sets)):\n",
    "            X_train, y_train, X_val, y_val = X_train_sets[j], y_train_sets[j], X_val_sets[j], y_val_sets[j]\n",
    "\n",
    "            est_params = param_grid['est_params']\n",
    "            opt_params = param_grid['opt_params']\n",
    "            params = param_grid['params']\n",
    "\n",
    "            model = estimator(X_train, **est_params)\n",
    "            \n",
    "            model.compile(\n",
    "                optimizer=Adam(**opt_params), \n",
    "                loss=MeanAbsolutePercentageError(), \n",
    "            )\n",
    "            history = model.fit(\n",
    "                X_train, y_train, verbose=0, shuffle=False, epochs=epochs,\n",
    "                validation_data=(X_val, y_val), callbacks=[\n",
    "                    LearningRateScheduler(scheduler1)\n",
    "                ], **params\n",
    "            )\n",
    "            results[i].append(model.evaluate(X_val, y_val, verbose=0))\n",
    "\n",
    "    return param_grid_list[pd.Series(results).apply(np.mean).argmin()]\n",
    "\n",
    "def load_lstm(name):\n",
    "    if 'univ' in name:\n",
    "        _X_train, _y_train, _X_test, _y_test = X_train_uv, y_train_full, X_test_uv, y_test\n",
    "        univariate = True\n",
    "    else:\n",
    "        _X_train, _y_train, _X_test, _y_test = X_train_full, y_train_full, X_test, y_test\n",
    "        univariate = False\n",
    "    if 'deep' in name:\n",
    "        n_hidden = 2\n",
    "    else:\n",
    "        n_hidden = 1\n",
    "    \n",
    "    prefix = name.split('_LSTM')[0]\n",
    "    model = _compile_model(\n",
    "        _y_train, _X_test, _y_test, **get_LSTM(\n",
    "            _X_train, n_hidden, univariate=univariate, \n",
    "            model_prefix=prefix\n",
    "        ),\n",
    "    )\n",
    "    \n",
    "    model.load_weights(f\"models/{name}.weights.h5\")\n",
    "\n",
    "    for k, v in lstm_opt_params.items():\n",
    "        exec(f'model.optimizer.{k} = {v}')\n",
    "\n",
    "    return model\n",
    "\n",
    "def extend_training(model):\n",
    "    model = copy(model)\n",
    "    model.name = f\"Extended_{model.name}\"\n",
    "    return model\n",
    "\n",
    "def get_latest_models(name=None):\n",
    "    all_models = pd.DataFrame([e for e in glob('models/*') if match(r'.*\\.(?:keras|h5)$', e)], columns=['file'])\n",
    "    all_models['model'] = all_models.file.str.extract(r'models/.*Final_(.*?)\\..*$')\n",
    "    all_models['model_name'] = all_models.file.str.extract(r'models/(.*Final_.*?)\\..*$')\n",
    "    all_models['extensions'] = all_models.file.apply(lambda e: e.count('Extended'))\n",
    "    all_models['latest'] = all_models.groupby('model').extensions.transform('max')\n",
    "    latest = all_models.loc[\n",
    "        all_models.extensions == all_models.latest, \n",
    "        ['model', 'model_name', 'file']\n",
    "    ]\n",
    "    \n",
    "    if name:\n",
    "        latest = latest.loc[latest.model == name, 'model_name'].squeeze()\n",
    "    \n",
    "    return latest\n",
    "\n",
    "# _ = train_model(\n",
    "#     y_train_full, X_test_uv, y_test, \n",
    "#     epochs=1, **get_MLP(X_train_uv, 1, univariate=True, model_prefix='test'),\n",
    "# )\n"
   ]
  },
  {
   "cell_type": "code",
   "execution_count": 42,
   "id": "a9d6f9ab-2e70-40a8-ba86-8d933194960f",
   "metadata": {
    "scrolled": true
   },
   "outputs": [
    {
     "name": "stdout",
     "output_type": "stream",
     "text": [
      "(104758,) (104755,)\n",
      "(209513,) (104755,)\n",
      "(314268,) (104755,)\n",
      "(419023,) (104755,)\n",
      "(523778,) (104755,)\n"
     ]
    },
    {
     "data": {
      "text/plain": [
       "[<tf.Tensor: shape=(104758, 70), dtype=float64, numpy=\n",
       " array([[ 0.9132249 ,  0.9131219 , -1.58047303, ...,  0.87825308,\n",
       "          1.00316397,  1.09089092],\n",
       "        [ 0.82439921,  0.96512497, -1.58047303, ...,  0.73767417,\n",
       "          0.87825188,  1.00316248],\n",
       "        [ 0.73096249,  0.94779061, -1.58047303, ...,  0.62059541,\n",
       "          0.73767302,  0.87825045],\n",
       "        ...,\n",
       "        [ 1.04049632,  0.79178142, -0.03461552, ...,  1.17141799,\n",
       "          1.17704044,  1.17312218],\n",
       "        [ 1.05281415,  0.61843787, -0.03461552, ...,  1.1511517 ,\n",
       "          1.17141668,  1.17703887],\n",
       "        [ 1.04567127,  0.722444  , -0.03461552, ...,  1.13299145,\n",
       "          1.1511504 ,  1.17141511]])>,\n",
       " <tf.Tensor: shape=(209513, 70), dtype=float64, numpy=\n",
       " array([[ 0.9132249 ,  0.9131219 , -1.58047303, ...,  0.87825308,\n",
       "          1.00316397,  1.09089092],\n",
       "        [ 0.82439921,  0.96512497, -1.58047303, ...,  0.73767417,\n",
       "          0.87825188,  1.00316248],\n",
       "        [ 0.73096249,  0.94779061, -1.58047303, ...,  0.62059541,\n",
       "          0.73767302,  0.87825045],\n",
       "        ...,\n",
       "        [ 0.43844574, -0.12693939, -1.58047303, ...,  0.49078069,\n",
       "          0.53275841,  0.49680879],\n",
       "        [ 0.44908334, -0.14427374, -1.58047303, ...,  0.47367921,\n",
       "          0.49077963,  0.53275715],\n",
       "        [ 0.42284802, -0.17894245, -1.58047303, ...,  0.48434749,\n",
       "          0.47367816,  0.49077839]])>,\n",
       " <tf.Tensor: shape=(314268, 70), dtype=float64, numpy=\n",
       " array([[ 0.9132249 ,  0.9131219 , -1.58047303, ...,  0.87825308,\n",
       "          1.00316397,  1.09089092],\n",
       "        [ 0.82439921,  0.96512497, -1.58047303, ...,  0.73767417,\n",
       "          0.87825188,  1.00316248],\n",
       "        [ 0.73096249,  0.94779061, -1.58047303, ...,  0.62059541,\n",
       "          0.73767302,  0.87825045],\n",
       "        ...,\n",
       "        [-0.03843562, -0.47362649,  0.27455598, ..., -0.01562332,\n",
       "         -0.02661086, -0.05548256],\n",
       "        [-0.01837647, -0.47362649,  0.27455598, ...,  0.05347694,\n",
       "         -0.01562418, -0.02661185],\n",
       "        [ 0.00291407, -0.61230132,  0.27455598, ...,  0.13893829,\n",
       "          0.05347605, -0.01562517]])>,\n",
       " <tf.Tensor: shape=(419023, 70), dtype=float64, numpy=\n",
       " array([[ 0.9132249 ,  0.9131219 , -1.58047303, ...,  0.87825308,\n",
       "          1.00316397,  1.09089092],\n",
       "        [ 0.82439921,  0.96512497, -1.58047303, ...,  0.73767417,\n",
       "          0.87825188,  1.00316248],\n",
       "        [ 0.73096249,  0.94779061, -1.58047303, ...,  0.62059541,\n",
       "          0.73767302,  0.87825045],\n",
       "        ...,\n",
       "        [-1.46249305,  0.20241335, -1.27130153, ..., -1.3676375 ,\n",
       "         -1.36569676, -1.37106769],\n",
       "        [-1.46117342,  0.21974771, -1.27130153, ..., -1.38687187,\n",
       "         -1.36763784, -1.3656971 ],\n",
       "        [-1.47230972,  0.30641948, -1.27130153, ..., -1.38906997,\n",
       "         -1.3868722 , -1.36763819]])>,\n",
       " <tf.Tensor: shape=(523778, 70), dtype=float64, numpy=\n",
       " array([[ 0.9132249 ,  0.9131219 , -1.58047303, ...,  0.87825308,\n",
       "          1.00316397,  1.09089092],\n",
       "        [ 0.82439921,  0.96512497, -1.58047303, ...,  0.73767417,\n",
       "          0.87825188,  1.00316248],\n",
       "        [ 0.73096249,  0.94779061, -1.58047303, ...,  0.62059541,\n",
       "          0.73767302,  0.87825045],\n",
       "        ...,\n",
       "        [-1.37173779, -0.6989731 ,  0.58372748, ..., -1.31429608,\n",
       "         -1.38195044, -1.35460686],\n",
       "        [-1.39684912, -0.68163874,  0.58372748, ..., -1.36068259,\n",
       "         -1.31429644, -1.38195078],\n",
       "        [-1.32411602, -0.66430439,  0.58372748, ..., -1.39276033,\n",
       "         -1.36068293, -1.31429681]])>]"
      ]
     },
     "execution_count": 42,
     "metadata": {},
     "output_type": "execute_result"
    }
   ],
   "source": [
    "df = pd.read_csv('data/modelling_data.csv', parse_dates=['DATETIME'], date_format='%Y-%m-%d %H:%M:%S')\n",
    "\n",
    "y_cols = ['h1_TOTALDEMAND', 'h24_TOTALDEMAND']\n",
    "\n",
    "df = df.set_index('DATETIME').dropna()\n",
    "\n",
    "X_df, y_df = df.drop(columns=y_cols), df[y_cols]\n",
    "\n",
    "scaler = StandardScaler()\n",
    "X_scaled = scaler.fit_transform(X_df)\n",
    "\n",
    "X_y = [X_train_full, X_test, y_train_full, y_test] = train_test_split(\n",
    "    X_scaled, y_df, test_size=0.2, shuffle=False\n",
    ")\n",
    "X_y = [tf.convert_to_tensor(d) for d in X_y]\n",
    "[X_train_full, X_test, y_train_full, y_test] = X_y\n",
    "\n",
    "uv_cols = np.array([bool(match(r'TOTALDEMAND|TM\\d+', e)) for e in X_df.columns])\n",
    "X_train_uv = tf.convert_to_tensor(X_train_full.numpy()[:,uv_cols])\n",
    "X_test_uv = tf.convert_to_tensor(X_test.numpy()[:,uv_cols])\n",
    "\n",
    "train_val_I = TimeSeriesSplit(n_splits=5).split(X_train_full)\n",
    "X_train_sets, y_train_sets, X_val_sets, y_val_sets = [], [], [], []\n",
    "\n",
    "for train, val in train_val_I:\n",
    "    print(train.shape, val.shape)\n",
    "    val_start, val_end = val.min(), val.max()+1\n",
    "    X_train_sets.append(X_train_full[:val_start])\n",
    "    y_train_sets.append(y_train_full[:val_start])\n",
    "    X_val_sets.append(X_train_full[val_start: val_end])\n",
    "    y_val_sets.append(y_train_full[val_start: val_end])\n",
    "\n",
    "X_train_sets\n"
   ]
  },
  {
   "cell_type": "code",
   "execution_count": null,
   "id": "7ef9b7d5-b6dc-4ef6-9d62-320983cec072",
   "metadata": {},
   "outputs": [],
   "source": []
  },
  {
   "cell_type": "markdown",
   "id": "4590b81b-2b75-4cbf-940c-b70925439744",
   "metadata": {},
   "source": [
    "### Shallow multivariate MLP"
   ]
  },
  {
   "cell_type": "code",
   "execution_count": 5,
   "id": "9011481b-1c90-491b-bf68-c9dea1c286fc",
   "metadata": {},
   "outputs": [],
   "source": [
    "# m1, m1_hist = train_model(\n",
    "#     y_train_full, X_test, y_test, \n",
    "#     epochs=10_000, **get_MLP(X_train_full, model_prefix='Final'),\n",
    "# )\n",
    "\n",
    "# m1.evaluate(X_test, y_test)\n",
    "\n",
    "# m1 = load_model(f'models/Final_MLP_shallow_multiv.keras')\n"
   ]
  },
  {
   "cell_type": "markdown",
   "id": "95be87c6-d50d-4f73-bd4f-9b77cf491ba0",
   "metadata": {},
   "source": [
    "### Deep multivariate MLP"
   ]
  },
  {
   "cell_type": "code",
   "execution_count": 6,
   "id": "fff880d6-0feb-4d42-9637-c9f4f3dd4433",
   "metadata": {},
   "outputs": [],
   "source": [
    "# m2, m2_hist = train_model(\n",
    "#     y_train_full, X_test, y_test, \n",
    "#     epochs=4000, **get_MLP(X_train_full, 10, model_prefix='Final'),\n",
    "# )\n",
    "\n",
    "# m2.evaluate(X_test, y_test)\n",
    "\n",
    "# m2 = load_model(f'models/Final_MLP_deep_multiv.keras')\n"
   ]
  },
  {
   "cell_type": "markdown",
   "id": "441ecb18-21df-4418-b75c-a9db7b266dbd",
   "metadata": {},
   "source": [
    "### Shallow multivariate BD-LSTM"
   ]
  },
  {
   "cell_type": "code",
   "execution_count": 7,
   "id": "a2d32d00-b276-4ec2-9451-b857689a8f88",
   "metadata": {},
   "outputs": [
    {
     "name": "stderr",
     "output_type": "stream",
     "text": [
      "/Library/Frameworks/Python.framework/Versions/3.12/lib/python3.12/site-packages/keras/src/saving/saving_lib.py:396: UserWarning: Skipping variable loading for optimizer 'adam', because it has 2 variables whereas the saved optimizer has 18 variables. \n",
      "  trackable.load_own_variables(weights_store.get(inner_path))\n"
     ]
    }
   ],
   "source": [
    "# m3, m3_hist = train_model(\n",
    "#     y_train_full, X_test, y_test, \n",
    "#     epochs=73, **get_LSTM(X_train_full, model_prefix='Final'),\n",
    "# )\n",
    "\n",
    "# m3.evaluate(X_test, y_test)\n",
    "# m3.save_weights('models/Final_LSTM_shallow_multiv.weights.h5')\n",
    "\n",
    "# m3 = load_lstm('Final_LSTM_shallow_multiv')\n"
   ]
  },
  {
   "cell_type": "markdown",
   "id": "b09b98b0-9ff3-4cb7-8be5-a28ddd86d962",
   "metadata": {},
   "source": [
    "### Deep multivariate BD-LSTM"
   ]
  },
  {
   "cell_type": "code",
   "execution_count": 8,
   "id": "01c91304-0fd6-46c6-a8a0-34ed1494eef8",
   "metadata": {},
   "outputs": [
    {
     "name": "stderr",
     "output_type": "stream",
     "text": [
      "/Library/Frameworks/Python.framework/Versions/3.12/lib/python3.12/site-packages/keras/src/saving/saving_lib.py:396: UserWarning: Skipping variable loading for optimizer 'adam', because it has 2 variables whereas the saved optimizer has 30 variables. \n",
      "  trackable.load_own_variables(weights_store.get(inner_path))\n"
     ]
    }
   ],
   "source": [
    "# m4, m4_hist = train_model(\n",
    "#     y_train_full, X_test, y_test, \n",
    "#     epochs=21, **get_LSTM(X_train_full, 2, model_prefix='Final'),\n",
    "# )\n",
    "\n",
    "# m4.evaluate(X_test, y_test)\n",
    "# m4.save_weights('models/Final_LSTM_deep_multiv.weights.h5')\n",
    "\n",
    "# m4 = load_lstm('Final_LSTM_deep_multiv')\n"
   ]
  },
  {
   "cell_type": "markdown",
   "id": "88634761-4997-4b0e-9604-e8423bfe0d76",
   "metadata": {},
   "source": [
    "### Shallow univariate MLP\n"
   ]
  },
  {
   "cell_type": "code",
   "execution_count": 208,
   "id": "aa5492ed-2f76-4347-bf63-2c785f5609b1",
   "metadata": {},
   "outputs": [],
   "source": [
    "# m5, m5_hist = train_model(\n",
    "#     y_train_full, X_test_uv, y_test, \n",
    "#     epochs=10_500, **get_MLP(X_train_uv, univariate=True, model_prefix='Final'),\n",
    "# )\n",
    "\n",
    "# m5.evaluate(X_test_uv, y_test)\n",
    "\n",
    "# m5 = load_model(f'models/Final_MLP_shallow_univ.keras')\n"
   ]
  },
  {
   "cell_type": "markdown",
   "id": "4ceb5767-f8e0-448b-803f-93e2731433f4",
   "metadata": {},
   "source": [
    "### Deep univariate MLP\n"
   ]
  },
  {
   "cell_type": "code",
   "execution_count": 10,
   "id": "d9c796f8-44d7-4519-987c-382d3b090bda",
   "metadata": {},
   "outputs": [],
   "source": [
    "# m6, m6_hist = train_model(\n",
    "#     y_train_full, X_test_uv, y_test, \n",
    "#     epochs=3950, **get_MLP(X_train_uv, 10, univariate=True, model_prefix='Final'),\n",
    "# )\n",
    "\n",
    "# m6.evaluate(X_test_uv, y_test)\n",
    "\n",
    "# m6 = load_model(f'models/Final_MLP_deep_univ.keras')\n"
   ]
  },
  {
   "cell_type": "markdown",
   "id": "01d3a1de-3467-4507-ae1a-d91fab93ea76",
   "metadata": {},
   "source": [
    "### Shallow univariate BD-LSTM\n"
   ]
  },
  {
   "cell_type": "code",
   "execution_count": 11,
   "id": "01012439-016a-41ee-9320-2c04eead401c",
   "metadata": {},
   "outputs": [],
   "source": [
    "# m7, m7_hist = train_model(\n",
    "#     y_train_full, X_test_uv, y_test, \n",
    "#     epochs=105, **get_LSTM(X_train_uv, univariate=True, model_prefix='Final'),\n",
    "# )\n",
    "\n",
    "# m7.evaluate(X_test_uv, y_test)\n",
    "# m7.save_weights('models/Final_LSTM_shallow_univ.weights.h5')\n",
    "\n",
    "# m7 = load_lstm('Final_LSTM_shallow_univ')\n"
   ]
  },
  {
   "cell_type": "markdown",
   "id": "1c0b88e6-af99-433f-a2a7-338eba1df561",
   "metadata": {},
   "source": [
    "### Deep univariate BD-LSTM\n"
   ]
  },
  {
   "cell_type": "code",
   "execution_count": 12,
   "id": "987cc8b3-fe2a-4139-aece-a2a5df845e56",
   "metadata": {},
   "outputs": [],
   "source": [
    "# m8, m8_hist = train_model(\n",
    "#     y_train_full, X_test_uv, y_test, \n",
    "#     epochs=30, **get_LSTM(X_train_uv, 2, univariate=True, model_prefix='Final'),\n",
    "# )\n",
    "\n",
    "# m8.evaluate(X_test_uv, y_test)\n",
    "\n",
    "# m8.save_weights('models/Final_LSTM_deep_univ.weights.h5')\n",
    "\n",
    "# m8 = load_lstm('Final_LSTM_deep_univ')\n",
    "\n"
   ]
  },
  {
   "cell_type": "code",
   "execution_count": 14,
   "id": "1a35297b-5a50-4763-822f-fb46c4dc513d",
   "metadata": {},
   "outputs": [],
   "source": [
    "# m3, m3_history = train_model(y_train_full, X_test, y_test, X_train_full, m3, epochs=73) # Shallow multivariate LSTM\n",
    "# m4, m4_history = train_model(y_train_full, X_test, y_test, X_train_full, m4, epochs=21) # Deep multivariate LSTM\n",
    "# m7, m7_history = train_model(y_train_full, X_test_uv, y_test, X_train_uv, m7, epochs=105) # Shallow univariate LSTM\n",
    "# m8, m8_history = train_model(y_train_full, X_test_uv, y_test, X_train_uv, m8, epochs=30) # Deep univariate LSTM\n",
    "\n",
    "# model = extend_training(load_lstm('Final_LSTM_deep_univ'))\n"
   ]
  },
  {
   "cell_type": "code",
   "execution_count": 43,
   "id": "3f4bf650-e3df-4f8d-85da-961ec89a894a",
   "metadata": {},
   "outputs": [
    {
     "data": {
      "text/plain": [
       "'Extended_Extended_Extended_Final_LSTM_deep_multiv'"
      ]
     },
     "execution_count": 43,
     "metadata": {},
     "output_type": "execute_result"
    }
   ],
   "source": [
    "model = extend_training(load_lstm(get_latest_models('LSTM_deep_multiv'))) \n",
    "\n",
    "model.name\n"
   ]
  },
  {
   "cell_type": "code",
   "execution_count": 33,
   "id": "342bfbbf-f0ac-4700-b851-53f792203723",
   "metadata": {},
   "outputs": [],
   "source": [
    "# import hashlib\n",
    "\n",
    "# proj = glob('models/*')\n",
    "# proj_dct = dict()\n",
    "# dwn = glob('/Users/mycomputer/Downloads/models*/*')\n",
    "# dwn_dct = dict()\n",
    "\n",
    "# for e in proj:\n",
    "#     with open(e, 'rb') as f:\n",
    "#        proj_dct[hashlib.md5(f.read()).hexdigest()] = e \n",
    "\n",
    "# for e in dwn:\n",
    "#     with open(e, 'rb') as f:\n",
    "#        dwn_dct[hashlib.md5(f.read()).hexdigest()] = e \n",
    "\n",
    "# print(sorted([v for k, v in dwn_dct.items() if k not in proj_dct and  '.csv' in v and 'train_times' not in v]))\n",
    "# print([v for k, v in proj_dct.items() if k not in dwn_dct and '.csv' in v])\n"
   ]
  },
  {
   "cell_type": "code",
   "execution_count": null,
   "id": "c6c55346",
   "metadata": {},
   "outputs": [],
   "source": [
    "hours = 8"
   ]
  },
  {
   "cell_type": "code",
   "execution_count": null,
   "id": "21855dcd-da30-496e-9173-846894354f60",
   "metadata": {},
   "outputs": [],
   "source": [
    "with tf.device('/CPU:0'):\n",
    "    m4, m4_history = train_model(y_train_full, X_test, y_test, X_train_full, model, epochs=int(21/2*hours)) # Deep multivariate LSTM"
   ]
  },
  {
   "cell_type": "markdown",
   "id": "1afdeccb-1990-45bf-9820-01b1ad710743",
   "metadata": {},
   "source": [
    "# Get model results\n"
   ]
  },
  {
   "cell_type": "code",
   "execution_count": 65,
   "id": "265ed273-677f-4588-9b57-746ad863c087",
   "metadata": {},
   "outputs": [
    {
     "name": "stderr",
     "output_type": "stream",
     "text": [
      "/Library/Frameworks/Python.framework/Versions/3.12/lib/python3.12/site-packages/keras/src/saving/saving_lib.py:396: UserWarning: Skipping variable loading for optimizer 'adam', because it has 2 variables whereas the saved optimizer has 18 variables. \n",
      "  trackable.load_own_variables(weights_store.get(inner_path))\n"
     ]
    },
    {
     "name": "stdout",
     "output_type": "stream",
     "text": [
      "\u001b[1m4911/4911\u001b[0m \u001b[32m━━━━━━━━━━━━━━━━━━━━\u001b[0m\u001b[37m\u001b[0m \u001b[1m1s\u001b[0m 153us/step - loss: 3.6530 - mean_squared_error: 93235.4219\n",
      "\u001b[1m4911/4911\u001b[0m \u001b[32m━━━━━━━━━━━━━━━━━━━━\u001b[0m\u001b[37m\u001b[0m \u001b[1m14s\u001b[0m 3ms/step - loss: 4.3419 - mean_squared_error: 140531.1875\n",
      "\u001b[1m4911/4911\u001b[0m \u001b[32m━━━━━━━━━━━━━━━━━━━━\u001b[0m\u001b[37m\u001b[0m \u001b[1m49s\u001b[0m 10ms/step - loss: 4.8578 - mean_squared_error: 160166.5312\n",
      "\u001b[1m4911/4911\u001b[0m \u001b[32m━━━━━━━━━━━━━━━━━━━━\u001b[0m\u001b[37m\u001b[0m \u001b[1m9s\u001b[0m 2ms/step - loss: 5.3894 - mean_squared_error: 191271.9219\n",
      "\u001b[1m4911/4911\u001b[0m \u001b[32m━━━━━━━━━━━━━━━━━━━━\u001b[0m\u001b[37m\u001b[0m \u001b[1m1s\u001b[0m 193us/step - loss: 3.8033 - mean_squared_error: 106171.6641\n",
      "\u001b[1m4911/4911\u001b[0m \u001b[32m━━━━━━━━━━━━━━━━━━━━\u001b[0m\u001b[37m\u001b[0m \u001b[1m35s\u001b[0m 7ms/step - loss: 5.1227 - mean_squared_error: 184611.8750\n",
      "\u001b[1m4911/4911\u001b[0m \u001b[32m━━━━━━━━━━━━━━━━━━━━\u001b[0m\u001b[37m\u001b[0m \u001b[1m1s\u001b[0m 150us/step - loss: 4.2995 - mean_squared_error: 165347.5938\n",
      "\u001b[1m4911/4911\u001b[0m \u001b[32m━━━━━━━━━━━━━━━━━━━━\u001b[0m\u001b[37m\u001b[0m \u001b[1m1s\u001b[0m 196us/step - loss: 4.1176 - mean_squared_error: 140319.0312\n"
     ]
    },
    {
     "data": {
      "text/html": [
       "<div>\n",
       "<style scoped>\n",
       "    .dataframe tbody tr th:only-of-type {\n",
       "        vertical-align: middle;\n",
       "    }\n",
       "\n",
       "    .dataframe tbody tr th {\n",
       "        vertical-align: top;\n",
       "    }\n",
       "\n",
       "    .dataframe thead th {\n",
       "        text-align: right;\n",
       "    }\n",
       "</style>\n",
       "<table border=\"1\" class=\"dataframe\">\n",
       "  <thead>\n",
       "    <tr style=\"text-align: right;\">\n",
       "      <th></th>\n",
       "      <th>model</th>\n",
       "      <th>object</th>\n",
       "      <th>X_test</th>\n",
       "      <th>test_MAPE</th>\n",
       "      <th>test_MSE</th>\n",
       "      <th>test_RMSE</th>\n",
       "    </tr>\n",
       "  </thead>\n",
       "  <tbody>\n",
       "    <tr>\n",
       "      <th>0</th>\n",
       "      <td>MLP_shallow_multiv</td>\n",
       "      <td>&lt;Functional name=Final_MLP_shallow_multiv, bui...</td>\n",
       "      <td>X_test</td>\n",
       "      <td>4.592746</td>\n",
       "      <td>118508.984375</td>\n",
       "      <td>344.251339</td>\n",
       "    </tr>\n",
       "    <tr>\n",
       "      <th>1</th>\n",
       "      <td>LSTM_shallow_multiv</td>\n",
       "      <td>&lt;Functional name=Final_LSTM_shallow_multiv, bu...</td>\n",
       "      <td>X_test</td>\n",
       "      <td>5.072569</td>\n",
       "      <td>162968.937500</td>\n",
       "      <td>403.694114</td>\n",
       "    </tr>\n",
       "    <tr>\n",
       "      <th>2</th>\n",
       "      <td>LSTM_deep_multiv</td>\n",
       "      <td>&lt;Functional name=Final_LSTM_deep_multiv, built...</td>\n",
       "      <td>X_test</td>\n",
       "      <td>5.683590</td>\n",
       "      <td>186140.515625</td>\n",
       "      <td>431.440049</td>\n",
       "    </tr>\n",
       "    <tr>\n",
       "      <th>3</th>\n",
       "      <td>LSTM_shallow_univ</td>\n",
       "      <td>&lt;Functional name=Final_LSTM_shallow_univ, buil...</td>\n",
       "      <td>X_test_uv</td>\n",
       "      <td>6.017723</td>\n",
       "      <td>206086.812500</td>\n",
       "      <td>453.967854</td>\n",
       "    </tr>\n",
       "    <tr>\n",
       "      <th>4</th>\n",
       "      <td>MLP_deep_multiv</td>\n",
       "      <td>&lt;Functional name=Final_MLP_deep_multiv, built=...</td>\n",
       "      <td>X_test</td>\n",
       "      <td>4.703630</td>\n",
       "      <td>139177.281250</td>\n",
       "      <td>373.064715</td>\n",
       "    </tr>\n",
       "    <tr>\n",
       "      <th>5</th>\n",
       "      <td>LSTM_deep_univ</td>\n",
       "      <td>&lt;Functional name=Final_LSTM_deep_univ, built=T...</td>\n",
       "      <td>X_test_uv</td>\n",
       "      <td>5.837089</td>\n",
       "      <td>201973.609375</td>\n",
       "      <td>449.414741</td>\n",
       "    </tr>\n",
       "    <tr>\n",
       "      <th>6</th>\n",
       "      <td>MLP_shallow_univ</td>\n",
       "      <td>&lt;Functional name=Final_MLP_shallow_univ, built...</td>\n",
       "      <td>X_test_uv</td>\n",
       "      <td>4.716120</td>\n",
       "      <td>173877.687500</td>\n",
       "      <td>416.986436</td>\n",
       "    </tr>\n",
       "    <tr>\n",
       "      <th>7</th>\n",
       "      <td>MLP_deep_univ</td>\n",
       "      <td>&lt;Functional name=Final_MLP_deep_univ, built=True&gt;</td>\n",
       "      <td>X_test_uv</td>\n",
       "      <td>4.641925</td>\n",
       "      <td>156586.593750</td>\n",
       "      <td>395.710240</td>\n",
       "    </tr>\n",
       "  </tbody>\n",
       "</table>\n",
       "</div>"
      ],
      "text/plain": [
       "                 model                                             object  \\\n",
       "0   MLP_shallow_multiv  <Functional name=Final_MLP_shallow_multiv, bui...   \n",
       "1  LSTM_shallow_multiv  <Functional name=Final_LSTM_shallow_multiv, bu...   \n",
       "2     LSTM_deep_multiv  <Functional name=Final_LSTM_deep_multiv, built...   \n",
       "3    LSTM_shallow_univ  <Functional name=Final_LSTM_shallow_univ, buil...   \n",
       "4      MLP_deep_multiv  <Functional name=Final_MLP_deep_multiv, built=...   \n",
       "5       LSTM_deep_univ  <Functional name=Final_LSTM_deep_univ, built=T...   \n",
       "6     MLP_shallow_univ  <Functional name=Final_MLP_shallow_univ, built...   \n",
       "7        MLP_deep_univ  <Functional name=Final_MLP_deep_univ, built=True>   \n",
       "\n",
       "      X_test  test_MAPE       test_MSE   test_RMSE  \n",
       "0     X_test   4.592746  118508.984375  344.251339  \n",
       "1     X_test   5.072569  162968.937500  403.694114  \n",
       "2     X_test   5.683590  186140.515625  431.440049  \n",
       "3  X_test_uv   6.017723  206086.812500  453.967854  \n",
       "4     X_test   4.703630  139177.281250  373.064715  \n",
       "5  X_test_uv   5.837089  201973.609375  449.414741  \n",
       "6  X_test_uv   4.716120  173877.687500  416.986436  \n",
       "7  X_test_uv   4.641925  156586.593750  395.710240  "
      ]
     },
     "execution_count": 65,
     "metadata": {},
     "output_type": "execute_result"
    }
   ],
   "source": [
    "\n",
    "model_files = get_latest_models()\n",
    "models = dict()\n",
    "\n",
    "for m, n, f in model_files.values:\n",
    "    model = load_lstm(n) if 'LSTM' in m else load_model(f)\n",
    "    models[m] = model\n",
    "        \n",
    "models_df = pd.DataFrame(models.items(), columns=['model', 'object'])\n",
    "\n",
    "models_df['X_test'] = models_df.model.apply(lambda e: 'X_test_uv' if 'univ' in e else 'X_test')\n",
    "\n",
    "models_df[['test_MAPE', 'test_MSE']] = models_df.apply(lambda d: eval(f\"d['object'].evaluate({d['X_test']}, y_test)\"), axis=1).apply(pd.Series)\n",
    "models_df['test_RMSE'] = models_df.test_MSE**.5\n",
    "\n",
    "models_df[['model', 'test_MAPE', 'test_RMSE']].to_csv('Results/model test results.csv', index=False)\n",
    "\n",
    "models_df\n",
    "\n"
   ]
  },
  {
   "cell_type": "code",
   "execution_count": null,
   "id": "8d26fe5d-87c8-42e3-a975-8e4f288a88f7",
   "metadata": {
    "scrolled": true
   },
   "outputs": [],
   "source": []
  },
  {
   "cell_type": "code",
   "execution_count": null,
   "id": "2b42f2de-3dd2-4314-9b96-b010b22fbf7c",
   "metadata": {},
   "outputs": [],
   "source": []
  },
  {
   "cell_type": "code",
   "execution_count": null,
   "id": "4fdf227b-26e5-44ed-99a9-7ddcc40e3b8f",
   "metadata": {},
   "outputs": [],
   "source": []
  },
  {
   "cell_type": "code",
   "execution_count": null,
   "id": "b91e0922-07bd-488c-b38c-cd6a30166476",
   "metadata": {},
   "outputs": [],
   "source": []
  },
  {
   "cell_type": "code",
   "execution_count": null,
   "id": "693eaaaf-7605-49a0-8495-8f16798f4c1a",
   "metadata": {},
   "outputs": [],
   "source": []
  },
  {
   "cell_type": "code",
   "execution_count": null,
   "id": "e8806d58-0e88-4730-9e45-06a1951994f0",
   "metadata": {},
   "outputs": [],
   "source": []
  },
  {
   "cell_type": "code",
   "execution_count": null,
   "id": "dfbbb59b-4063-4a11-b5a8-a34592b20628",
   "metadata": {},
   "outputs": [],
   "source": []
  },
  {
   "cell_type": "code",
   "execution_count": null,
   "id": "3f1914c9-bea7-40da-b3b4-eccf38747998",
   "metadata": {},
   "outputs": [],
   "source": []
  },
  {
   "cell_type": "code",
   "execution_count": null,
   "id": "059b7ea8-ac2f-4b8e-baa7-4b208a461214",
   "metadata": {},
   "outputs": [],
   "source": []
  },
  {
   "cell_type": "code",
   "execution_count": null,
   "id": "a87354b3-a10a-4b2f-8bba-602c4a20d85a",
   "metadata": {},
   "outputs": [],
   "source": []
  },
  {
   "cell_type": "code",
   "execution_count": null,
   "id": "df98dba9-162f-4914-942e-035d2f953746",
   "metadata": {},
   "outputs": [],
   "source": []
  },
  {
   "cell_type": "code",
   "execution_count": null,
   "id": "5f7f4f42-075a-4001-b79a-03db0b8b208d",
   "metadata": {},
   "outputs": [],
   "source": []
  },
  {
   "cell_type": "code",
   "execution_count": 69,
   "id": "f818de40-cd4b-4649-a9e2-223ba0262abd",
   "metadata": {},
   "outputs": [],
   "source": [
    "# m4_daniels_y_pred = m4_daniels.predict(X_test)\n",
    "# for i in range(2):\n",
    "#     print(('H24' if i else 'H1'.rjust(3)) + ' MAPE:', MAPE(y_test[:,i], m4_y_pred[:,i]).numpy())\n",
    "# for i in range(2):\n",
    "#     print(('H24' if i else 'H1'.rjust(3)) + ' R2:', r2_score(y_test[:,i], m4_y_pred[:,i]))\n",
    "\n",
    "# m4_daniels_history['epoch'] = (m4_daniels_history.index+1).to_list()\n",
    "# mse_cols = [e for e in m4_daniels_history.columns if 'mean_squared_error' in e]\n",
    "# m4_daniels_history[[e.replace('mean_squared_error', 'RMSE') for e in mse_cols]] = m4_daniels_history[mse_cols].apply(lambda d: d.apply(lambda e: e**.5), axis=1)\n",
    "\n",
    "# fig, axes = plt.subplots(1, 2, figsize=(12,4), dpi=150)\n",
    "# metrics = ['loss', 'RMSE']\n",
    "\n",
    "# for i, ax in enumerate(axes):\n",
    "\n",
    "#     metric = metrics[i]\n",
    "#     label = metric.replace('loss', 'MAPE')\n",
    "\n",
    "#     sns.lineplot(m4_daniels_history, x='epoch', y=metric, ax=ax, label='Train', alpha=0.5)\n",
    "#     sns.lineplot(m4_daniels_history, x='epoch', y=f\"val_{metric}\", ax=ax, label='Test', alpha=0.5)\n",
    "\n",
    "#     ax.set_ylim(0)\n",
    "#     ax.set_xlabel('Epoch')\n",
    "#     ax.set_ylabel(label)\n",
    "#     # ax.set_yscale('symlog')\n",
    "\n",
    "# plt.suptitle('M4')\n",
    "# plt.savefig('LSTM_deep_mutliv continued fitting.png', dpi=300, facecolor='white', edgecolor='white', bbox_inches='tight')\n",
    "\n",
    "# plt.show()\n",
    "    \n"
   ]
  },
  {
   "cell_type": "code",
   "execution_count": null,
   "id": "d7955b60-ee3c-47aa-8307-59fee9eda162",
   "metadata": {},
   "outputs": [],
   "source": []
  },
  {
   "cell_type": "code",
   "execution_count": null,
   "id": "33b7f8cd-506e-47aa-b7eb-056e8650aece",
   "metadata": {},
   "outputs": [],
   "source": []
  },
  {
   "cell_type": "code",
   "execution_count": null,
   "id": "1bcee2e6-4fdf-42e0-b494-420c1bc00e42",
   "metadata": {},
   "outputs": [],
   "source": []
  },
  {
   "cell_type": "code",
   "execution_count": null,
   "id": "f090df2b-18f2-48f9-bf6d-d2db26e13bba",
   "metadata": {},
   "outputs": [],
   "source": []
  },
  {
   "cell_type": "code",
   "execution_count": null,
   "id": "918d8e4d-a49e-42ce-b31f-9ee1c4aaf7db",
   "metadata": {},
   "outputs": [],
   "source": []
  },
  {
   "cell_type": "code",
   "execution_count": null,
   "id": "d5c30c55-ed65-47a8-b3de-5c8db1eea24e",
   "metadata": {},
   "outputs": [],
   "source": []
  },
  {
   "cell_type": "code",
   "execution_count": null,
   "id": "e51479ea-d979-4203-9f3a-a06d1b6cab1c",
   "metadata": {},
   "outputs": [],
   "source": []
  },
  {
   "cell_type": "code",
   "execution_count": null,
   "id": "8d7d553d-f86d-4b0c-ac4f-53f6feceb6c5",
   "metadata": {},
   "outputs": [],
   "source": []
  },
  {
   "cell_type": "code",
   "execution_count": null,
   "id": "3b636d57-bd86-4776-9a42-6405df7b5686",
   "metadata": {},
   "outputs": [],
   "source": []
  },
  {
   "cell_type": "code",
   "execution_count": null,
   "id": "15188c82-b9fe-4c86-b3b3-fe02e8b904a7",
   "metadata": {},
   "outputs": [],
   "source": []
  },
  {
   "cell_type": "code",
   "execution_count": null,
   "id": "1c8fe813-048d-4103-b2a8-339edebe6743",
   "metadata": {},
   "outputs": [],
   "source": []
  },
  {
   "cell_type": "code",
   "execution_count": null,
   "id": "83eeda1c-3f92-4372-b904-dbaafc683b82",
   "metadata": {},
   "outputs": [],
   "source": []
  },
  {
   "cell_type": "code",
   "execution_count": null,
   "id": "82059892-b56d-4531-ac91-7c7d80d7330f",
   "metadata": {},
   "outputs": [],
   "source": []
  },
  {
   "cell_type": "code",
   "execution_count": null,
   "id": "c6aa2984-70c2-45c9-8cbd-7bbd16976d95",
   "metadata": {},
   "outputs": [],
   "source": []
  },
  {
   "cell_type": "code",
   "execution_count": null,
   "id": "4252d3e6-c359-47e2-8634-6f5f69ec50e5",
   "metadata": {},
   "outputs": [],
   "source": []
  },
  {
   "cell_type": "code",
   "execution_count": null,
   "id": "e14e077d-6421-4193-95eb-70c1a79d73e7",
   "metadata": {},
   "outputs": [],
   "source": []
  },
  {
   "cell_type": "code",
   "execution_count": null,
   "id": "8efcefb3-9820-40e0-90b4-bfa800eeefcb",
   "metadata": {},
   "outputs": [],
   "source": []
  },
  {
   "cell_type": "code",
   "execution_count": null,
   "id": "bbd675ba-59e2-49c0-a89d-d511cddee9cb",
   "metadata": {},
   "outputs": [],
   "source": []
  },
  {
   "cell_type": "code",
   "execution_count": null,
   "id": "7dccb1ad-92a9-4fd0-a01f-ae60fc474a3f",
   "metadata": {},
   "outputs": [],
   "source": []
  },
  {
   "cell_type": "code",
   "execution_count": null,
   "id": "64b6366e-88c3-4039-915d-e931c29b0c75",
   "metadata": {},
   "outputs": [],
   "source": []
  },
  {
   "cell_type": "code",
   "execution_count": 10,
   "id": "5adeaa5e-0332-45f1-b4b1-b6312f358df1",
   "metadata": {},
   "outputs": [
    {
     "name": "stdout",
     "output_type": "stream",
     "text": [
      "Searching hyperparameter space: 100%|\u001b[32m████████████\u001b[0m| 12/12 [59:49<00:00, 299.21s/it]\u001b[0m\n"
     ]
    },
    {
     "data": {
      "text/plain": [
       "{'est_params': {'hidden_L1': 0.1, 'output_L1': 0.0},\n",
       " 'opt_params': {},\n",
       " 'params': {}}"
      ]
     },
     "execution_count": 10,
     "metadata": {},
     "output_type": "execute_result"
    }
   ],
   "source": [
    "# param_grid={\n",
    "#     'estimator__hidden_L1': [0.01, 0.1, 0.3],\n",
    "#     'estimator__output_L1': [0.0, 0.01, 0.1, 0.3],\n",
    "# }\n",
    "\n",
    "# results = GridSearchCV(get_MLP, param_grid, epochs=100)\n",
    "\n",
    "# with open('Results/MLP regularisation gridsearch results.json', 'w') as f:\n",
    "#     f.write(dumps(results, indent=4))\n",
    "\n",
    "# results\n",
    "\n"
   ]
  },
  {
   "cell_type": "code",
   "execution_count": 78,
   "id": "857c5aa2-7b5a-4dba-9107-397ccd3e6101",
   "metadata": {},
   "outputs": [
    {
     "data": {
      "text/plain": [
       "{'opt_params': {'weight_decay': 1e-05, 'beta_1': 0.95},\n",
       " 'params': {'batch_size': 256}}"
      ]
     },
     "execution_count": 78,
     "metadata": {},
     "output_type": "execute_result"
    }
   ],
   "source": [
    "# param_grid={\n",
    "#     'batch_size': [2**8, 2**9, 2**10],\n",
    "#     'optimizer__weight_decay': [1e-3, 1e-4, 1e-5],\n",
    "#     'optimizer__beta_1': [.8, .9, .95],\n",
    "# }\n",
    "\n",
    "# results = GridSearchCV(get_MLP, param_grid, epochs=300)\n",
    "\n",
    "# with open('Results/MLP gridsearch results.json', 'w') as f:\n",
    "#     f.write(dumps(results, indent=4))\n",
    "\n",
    "# results\n"
   ]
  },
  {
   "cell_type": "code",
   "execution_count": 81,
   "id": "e66ba380-1571-48ec-a571-c41c3e4b4be3",
   "metadata": {},
   "outputs": [
    {
     "name": "stdout",
     "output_type": "stream",
     "text": [
      "Searching hyperparameter space: 100%|\u001b[32m██████████\u001b[0m| 27/27 [54:11<00:00, 120.44s/it]\u001b[0m\n"
     ]
    },
    {
     "data": {
      "text/plain": [
       "{'opt_params': {'weight_decay': 1e-05, 'beta_1': 0.8},\n",
       " 'params': {'batch_size': 256}}"
      ]
     },
     "execution_count": 81,
     "metadata": {},
     "output_type": "execute_result"
    }
   ],
   "source": [
    "# param_grid={\n",
    "#     'batch_size': [2**8, 2**9, 2**10],\n",
    "#     'optimizer__weight_decay': [1e-3, 1e-4, 1e-5],\n",
    "#     'optimizer__beta_1': [.8, .9, .95],\n",
    "# }\n",
    "\n",
    "# results = GridSearchCV(get_LSTM, param_grid, epochs=10)\n",
    "\n",
    "# with open('Results/BD-LSTM gridsearch results.json', 'w') as f:\n",
    "#     f.write(dumps(results, indent=4))\n",
    "\n",
    "# results\n"
   ]
  },
  {
   "cell_type": "code",
   "execution_count": null,
   "id": "1c90f67a-77e8-4fa9-b6aa-f1c30dedda8b",
   "metadata": {},
   "outputs": [],
   "source": []
  },
  {
   "cell_type": "code",
   "execution_count": null,
   "id": "e608b9af-0819-4af3-9066-89eb7ef37594",
   "metadata": {},
   "outputs": [],
   "source": []
  },
  {
   "cell_type": "code",
   "execution_count": null,
   "id": "0e6b372e-b944-4948-aded-6c0f1232634d",
   "metadata": {},
   "outputs": [],
   "source": []
  },
  {
   "cell_type": "code",
   "execution_count": null,
   "id": "41d6dbbe-cff1-49c1-8765-d2c6642fc591",
   "metadata": {},
   "outputs": [],
   "source": []
  },
  {
   "cell_type": "code",
   "execution_count": null,
   "id": "2107474a-ae30-4b96-8777-2006d9d5ee3d",
   "metadata": {},
   "outputs": [],
   "source": []
  },
  {
   "cell_type": "code",
   "execution_count": null,
   "id": "493aebd7-57aa-4813-af49-a9130934f126",
   "metadata": {},
   "outputs": [],
   "source": []
  },
  {
   "cell_type": "code",
   "execution_count": null,
   "id": "6d1a15b3-ea7a-45c0-8550-bf5c52b70fc5",
   "metadata": {},
   "outputs": [],
   "source": []
  },
  {
   "cell_type": "code",
   "execution_count": null,
   "id": "5e22bc07-764d-4920-9ebf-ed0c0df6d7d1",
   "metadata": {},
   "outputs": [],
   "source": []
  },
  {
   "cell_type": "code",
   "execution_count": null,
   "id": "132f1928-e7ec-44e3-ba6e-de31430bd5a3",
   "metadata": {},
   "outputs": [],
   "source": []
  },
  {
   "cell_type": "code",
   "execution_count": null,
   "id": "eaf831b9-42ce-4097-aca3-31f679fd4f35",
   "metadata": {},
   "outputs": [],
   "source": []
  },
  {
   "cell_type": "code",
   "execution_count": null,
   "id": "1ada1f68-acc1-46b7-bf6d-1c68d6167f8a",
   "metadata": {},
   "outputs": [],
   "source": []
  },
  {
   "cell_type": "code",
   "execution_count": null,
   "id": "4dfb637a-e2f0-4b49-bc1c-2fa8ac501ff4",
   "metadata": {},
   "outputs": [],
   "source": []
  },
  {
   "cell_type": "code",
   "execution_count": null,
   "id": "7141511b-74a7-42c9-85be-65c1d0eab888",
   "metadata": {},
   "outputs": [],
   "source": []
  },
  {
   "cell_type": "code",
   "execution_count": null,
   "id": "fb090487-260e-49c4-85eb-f21750530bad",
   "metadata": {},
   "outputs": [],
   "source": []
  },
  {
   "cell_type": "code",
   "execution_count": null,
   "id": "4b05b7f0-6e7d-4af1-a1f8-b6105fd56202",
   "metadata": {},
   "outputs": [],
   "source": []
  },
  {
   "cell_type": "code",
   "execution_count": null,
   "id": "c6e0d398-5b85-46f2-8bf1-c3b8673f02f8",
   "metadata": {},
   "outputs": [],
   "source": []
  },
  {
   "cell_type": "code",
   "execution_count": 131,
   "id": "965bed08-fefd-4a60-bb5b-55619fbaf628",
   "metadata": {},
   "outputs": [],
   "source": [
    "# from json import dumps, loads\n",
    "\n",
    "# with open('.json', 'w') as f:\n",
    "#     f.write(dumps(res))\n",
    "\n",
    "# with open('weight decay comparison on shallow MLP.json', 'r') as f:\n",
    "#     xx = loads(f.read())\n"
   ]
  },
  {
   "cell_type": "code",
   "execution_count": 88,
   "id": "1263ccc6-d142-44a7-86a9-5168754f0a03",
   "metadata": {},
   "outputs": [],
   "source": [
    "# smry_df = pd.DataFrame(smry)\n",
    "# smry_df = smry_df.melt(var_name='weight_decay', value_name='H1')\n",
    "# smry_df.weight_decay.fillna(0, inplace=True)\n",
    "# smry_df[['H1', 'H24']] = smry_df.H1.apply(pd.Series)\n",
    "\n",
    "# smry_df\n",
    "\n",
    "# smry_df.to_csv('.csv', index=False, lineterminator='\\n')\n"
   ]
  },
  {
   "cell_type": "code",
   "execution_count": null,
   "id": "f25f24da-9f84-46fb-b810-f0576447854e",
   "metadata": {},
   "outputs": [],
   "source": []
  },
  {
   "cell_type": "code",
   "execution_count": null,
   "id": "d7ec8b4c-c82c-40e9-b753-1e08f42d2c48",
   "metadata": {},
   "outputs": [],
   "source": []
  },
  {
   "cell_type": "code",
   "execution_count": null,
   "id": "a828266e-f985-4216-a555-d00dc3dfd164",
   "metadata": {},
   "outputs": [],
   "source": []
  },
  {
   "cell_type": "code",
   "execution_count": null,
   "id": "7a80fd1a-cbc0-43c0-9504-aebf776fc39a",
   "metadata": {},
   "outputs": [],
   "source": []
  },
  {
   "cell_type": "code",
   "execution_count": null,
   "id": "5ca1cb5b-ea7d-4572-93ee-98bf12be66a4",
   "metadata": {},
   "outputs": [],
   "source": []
  },
  {
   "cell_type": "code",
   "execution_count": null,
   "id": "d689d085-15be-45ef-b476-a8a908d5a2e0",
   "metadata": {},
   "outputs": [],
   "source": []
  },
  {
   "cell_type": "code",
   "execution_count": null,
   "id": "50e20057-410d-44c7-aa88-c46d4c2b96b1",
   "metadata": {},
   "outputs": [],
   "source": []
  },
  {
   "cell_type": "code",
   "execution_count": null,
   "id": "b50ce952-6035-4237-b4a7-798984528937",
   "metadata": {},
   "outputs": [],
   "source": []
  },
  {
   "cell_type": "code",
   "execution_count": null,
   "id": "3a2dbe04-6b87-403c-bfe2-be1f13ead325",
   "metadata": {},
   "outputs": [],
   "source": []
  },
  {
   "cell_type": "code",
   "execution_count": null,
   "id": "d00e1107-ad86-4c19-bdc2-93a49795c530",
   "metadata": {},
   "outputs": [],
   "source": []
  },
  {
   "cell_type": "code",
   "execution_count": null,
   "id": "38af052e-975d-46e3-b9fe-e9b88eeb6ef0",
   "metadata": {},
   "outputs": [],
   "source": []
  },
  {
   "cell_type": "code",
   "execution_count": 60,
   "id": "fd3c83a1-2c80-415a-a30d-1613ebf4ae85",
   "metadata": {},
   "outputs": [],
   "source": [
    "# main_input = Input(shape=(X_train_sets[-1][0].shape[0],1), name=\"input\")\n",
    "# previous_layer = main_input\n",
    "# # previous_layer = Bidirectional(LSTM(64, return_sequences=True), name=f\"BD_1\")(previous_layer)\n",
    "# previous_layer = Bidirectional(LSTM(32), name=f\"BD_2\")(previous_layer)\n",
    "\n",
    "# previous_layer = Dense(32, name=f\"relu_{1}\", activation='relu')(previous_layer)\n",
    "# main_output = Dense(2, name=f\"output\")(previous_layer)\n",
    "\n",
    "# def scheduler(epoch, lr):\n",
    "#     return 0.001 if epoch % 2 == 1 else 0.01\n",
    "\n",
    "# model_lstm = Model(inputs=main_input, outputs=main_output, name=\"BD-LSTM\")\n",
    "# model_lstm.compile(optimizer=Adam(\n",
    "#     learning_rate=.001,\n",
    "#     beta_1=0.9,\n",
    "#     beta_2=0.999,\n",
    "#     epsilon=1e-07,\n",
    "#     amsgrad=False,\n",
    "#     weight_decay=None,\n",
    "#     clipnorm=None,\n",
    "#     clipvalue=None,\n",
    "#     global_clipnorm=None,\n",
    "#     use_ema=False,\n",
    "#     ema_momentum=0.99,\n",
    "#     ema_overwrite_frequency=None,\n",
    "#     name='Adam',\n",
    "# ), loss=MeanAbsolutePercentageError(), metrics=[MSE])\n",
    "# lstm_history = model_lstm.fit(\n",
    "#     X_train, y_train, verbose=1, validation_data=(X_val, y_val), shuffle=False,\n",
    "#     epochs=1000, batch_size=2**5, \n",
    "#     callbacks=[\n",
    "#         LearningRateScheduler(scheduler), \n",
    "#         EarlyStopping(monitor='val_loss', patience=6, restore_best_weights=True), \n",
    "#     ]\n",
    "# )\n"
   ]
  },
  {
   "cell_type": "code",
   "execution_count": null,
   "id": "a7aefc6b-549a-45c4-b4f0-3f8f99b56c64",
   "metadata": {},
   "outputs": [],
   "source": []
  },
  {
   "cell_type": "code",
   "execution_count": null,
   "id": "596bf59b-eb87-4df5-983e-fd415e1d4671",
   "metadata": {},
   "outputs": [],
   "source": []
  },
  {
   "cell_type": "markdown",
   "id": "d191adbc-40ce-40f8-8844-0123041b5e98",
   "metadata": {},
   "source": [
    "444/444 ━━━━━━━━━━━━━━━━━━━━ 1s 2ms/step  LR=0.01  \n",
    " H1: 1.8942682  \n",
    "H24: 3.261359  \n",
    "  \n",
    " H1: 2.3578866  \n",
    "H24: 3.7653885  \n",
    "\n",
    "444/444 ━━━━━━━━━━━━━━━━━━━━ 1s 3ms/step  LR=0.001  \n",
    " H1: 2.2099416  \n",
    "H24: 3.548185  \n",
    "\n",
    "444/444 ━━━━━━━━━━━━━━━━━━━━ 1s 3ms/step  0.0001 if epoch % 2 == 1 else 0.001  (Epoch 154/1000)  \n",
    " H1: 1.4781239  \n",
    "H24: 3.2230973  \n"
   ]
  },
  {
   "cell_type": "code",
   "execution_count": 198,
   "id": "b08be776-52e0-40be-8fbe-a16c985fad56",
   "metadata": {},
   "outputs": [],
   "source": [
    "# y_pred = model_lstm.predict(X_val)\n",
    "# for i in range(2):\n",
    "#     print(('H24' if i else 'H1'.rjust(3)) + ':', MAPE(y_val[:,i], y_pred[:,i]).numpy())\n",
    "\n",
    "# lstm_history_df = pd.DataFrame(lstm_history.history)\n",
    "# lstm_history_df['epoch'] = (lstm_history_df.index+1).to_list()\n",
    "# mse_cols = [e for e in lstm_history_df.columns if 'mean_squared_error' in e]\n",
    "# lstm_history_df[[e.replace('mean_squared_error', 'RMSE') for e in mse_cols]] = lstm_history_df[mse_cols].apply(lambda d: d.apply(lambda e: e**.5), axis=1)\n",
    "\n",
    "# fig, axes = plt.subplots(1, 2, figsize=(18,6))\n",
    "# metrics = ['loss', 'RMSE']\n",
    "\n",
    "# for i, ax in enumerate(axes):\n",
    "\n",
    "#     metric = metrics[i]\n",
    "#     label = metric.replace('loss', 'MAPE')\n",
    "\n",
    "#     sns.lineplot(lstm_history_df, x='epoch', y=metric, ax=ax, label='Test')\n",
    "#     sns.lineplot(lstm_history_df, x='epoch', y=f\"val_{metric}\", ax=ax, label='Validation')\n",
    "\n",
    "#     ax.set_ylim(0)\n",
    "#     ax.set_xlabel('Epoch')\n",
    "#     ax.set_ylabel(label)\n",
    "    \n",
    "# plt.show()\n"
   ]
  },
  {
   "cell_type": "code",
   "execution_count": null,
   "id": "90fbda77-fea7-4b51-983c-bc15eed921e2",
   "metadata": {},
   "outputs": [],
   "source": []
  },
  {
   "cell_type": "code",
   "execution_count": null,
   "id": "c5a9bf2c-0e3a-4a31-a7ad-18163abdbf96",
   "metadata": {},
   "outputs": [],
   "source": []
  },
  {
   "cell_type": "code",
   "execution_count": null,
   "id": "6792fe06-a6de-44e3-8daa-301e85ef9c32",
   "metadata": {},
   "outputs": [],
   "source": []
  },
  {
   "cell_type": "code",
   "execution_count": null,
   "id": "b2922289-40b4-4194-917f-95f0d6d154f9",
   "metadata": {},
   "outputs": [],
   "source": []
  },
  {
   "cell_type": "code",
   "execution_count": null,
   "id": "41cb92db-48a8-4886-afdd-0ddb6bdd4364",
   "metadata": {},
   "outputs": [],
   "source": []
  },
  {
   "cell_type": "code",
   "execution_count": null,
   "id": "a90a895a-54dd-4c71-92f7-e6255ab7fd97",
   "metadata": {},
   "outputs": [],
   "source": []
  },
  {
   "cell_type": "code",
   "execution_count": null,
   "id": "4f3c4af4-1328-4468-bc15-44218fb58aa6",
   "metadata": {},
   "outputs": [],
   "source": []
  },
  {
   "cell_type": "code",
   "execution_count": null,
   "id": "46010ef1-e1ad-4b90-930e-6218c2027eef",
   "metadata": {},
   "outputs": [],
   "source": []
  },
  {
   "cell_type": "code",
   "execution_count": null,
   "id": "5892776b-688a-4d3c-869a-58c4cdc5de32",
   "metadata": {},
   "outputs": [],
   "source": []
  },
  {
   "cell_type": "code",
   "execution_count": null,
   "id": "0c88baac-2dc9-4239-999c-2c32cda7ab6f",
   "metadata": {},
   "outputs": [],
   "source": []
  },
  {
   "cell_type": "code",
   "execution_count": null,
   "id": "bc4e7161-4321-45ac-8584-a7ba121d5205",
   "metadata": {},
   "outputs": [],
   "source": []
  },
  {
   "cell_type": "code",
   "execution_count": null,
   "id": "cc4ab744-1973-4d8d-b7a7-e3bb86369dd7",
   "metadata": {},
   "outputs": [],
   "source": []
  },
  {
   "cell_type": "code",
   "execution_count": null,
   "id": "6422cd7d-28cf-4dc2-9736-f34b9c35fa44",
   "metadata": {},
   "outputs": [],
   "source": []
  },
  {
   "cell_type": "code",
   "execution_count": null,
   "id": "2b1b5f4b-f86d-457d-bc95-47be5d436c4d",
   "metadata": {},
   "outputs": [],
   "source": []
  },
  {
   "cell_type": "code",
   "execution_count": null,
   "id": "b90d0606-6f99-4fdd-bfce-79d7202c6fe8",
   "metadata": {},
   "outputs": [],
   "source": []
  },
  {
   "cell_type": "code",
   "execution_count": null,
   "id": "5095308b-ff08-4ca8-96c3-8b76fc6064f1",
   "metadata": {},
   "outputs": [],
   "source": []
  },
  {
   "cell_type": "code",
   "execution_count": null,
   "id": "f0a75d28-997c-4aac-8c34-11a59468aff6",
   "metadata": {},
   "outputs": [],
   "source": []
  },
  {
   "cell_type": "code",
   "execution_count": null,
   "id": "88a578a3-d621-4aca-b705-37356fe84ad0",
   "metadata": {},
   "outputs": [],
   "source": []
  },
  {
   "cell_type": "code",
   "execution_count": null,
   "id": "938818bd-aad8-4d2a-b35d-a4c4b1676c8b",
   "metadata": {},
   "outputs": [],
   "source": []
  },
  {
   "cell_type": "code",
   "execution_count": null,
   "id": "74cffd46-ab18-4675-85f7-3506b60973b8",
   "metadata": {},
   "outputs": [],
   "source": []
  },
  {
   "cell_type": "code",
   "execution_count": null,
   "id": "6b688cbb-93c9-4935-93f6-297b1aaf83f0",
   "metadata": {},
   "outputs": [],
   "source": []
  },
  {
   "cell_type": "code",
   "execution_count": null,
   "id": "70112d07-9d5f-4988-9fa7-3a8bd7913610",
   "metadata": {},
   "outputs": [],
   "source": []
  },
  {
   "cell_type": "code",
   "execution_count": null,
   "id": "7ad1391c-eab9-443d-bb7f-b5dfdb2f09bb",
   "metadata": {},
   "outputs": [],
   "source": []
  },
  {
   "cell_type": "code",
   "execution_count": null,
   "id": "606c99a9-1341-4440-b95b-5f6c743d076b",
   "metadata": {},
   "outputs": [],
   "source": []
  },
  {
   "cell_type": "code",
   "execution_count": null,
   "id": "94a4d1fb-46fa-492f-b8b1-6d3fa496ffc2",
   "metadata": {},
   "outputs": [],
   "source": []
  },
  {
   "cell_type": "code",
   "execution_count": null,
   "id": "6c71d4d0-f1e9-4098-a8d8-34e7e7cc1329",
   "metadata": {},
   "outputs": [],
   "source": []
  },
  {
   "cell_type": "code",
   "execution_count": null,
   "id": "de0dc4b3-bc84-444b-a3d4-7aa4b9599a33",
   "metadata": {},
   "outputs": [],
   "source": []
  },
  {
   "cell_type": "code",
   "execution_count": null,
   "id": "266308a6-9592-4a8e-b04f-6c91f1ce98b2",
   "metadata": {
    "scrolled": true
   },
   "outputs": [],
   "source": []
  },
  {
   "cell_type": "code",
   "execution_count": null,
   "id": "e82b904c-8759-4d8b-b16e-142de21921ec",
   "metadata": {},
   "outputs": [],
   "source": []
  },
  {
   "cell_type": "code",
   "execution_count": null,
   "id": "826063ca-964f-488e-841e-205a180073d3",
   "metadata": {},
   "outputs": [],
   "source": []
  },
  {
   "cell_type": "code",
   "execution_count": null,
   "id": "ce087c35-80af-42c5-9bd9-3872368aaba8",
   "metadata": {},
   "outputs": [],
   "source": []
  },
  {
   "cell_type": "code",
   "execution_count": null,
   "id": "94f6e7f4-b4ef-4962-9977-21b5ef920894",
   "metadata": {},
   "outputs": [],
   "source": []
  },
  {
   "cell_type": "code",
   "execution_count": null,
   "id": "720a060e-8dff-4937-b832-39bd33afdb59",
   "metadata": {},
   "outputs": [],
   "source": []
  },
  {
   "cell_type": "code",
   "execution_count": null,
   "id": "901cd93b-0345-4a9c-8bbe-b61bfea7f59a",
   "metadata": {},
   "outputs": [],
   "source": []
  },
  {
   "cell_type": "code",
   "execution_count": null,
   "id": "e205e906-be4d-4f4e-88fd-b2ab6f80182f",
   "metadata": {},
   "outputs": [],
   "source": []
  },
  {
   "cell_type": "code",
   "execution_count": null,
   "id": "6b37b1f4-ebf8-4adc-a810-8e7c4924e091",
   "metadata": {},
   "outputs": [],
   "source": []
  },
  {
   "cell_type": "code",
   "execution_count": null,
   "id": "6807373e-925c-481a-9f68-d15a084c8662",
   "metadata": {},
   "outputs": [],
   "source": []
  },
  {
   "cell_type": "code",
   "execution_count": null,
   "id": "58476a86-1e3c-4b32-8eee-9d872453aaf7",
   "metadata": {},
   "outputs": [],
   "source": []
  },
  {
   "cell_type": "code",
   "execution_count": null,
   "id": "ed0c2de9-6ae5-4829-8d3b-a807d5c6df62",
   "metadata": {},
   "outputs": [],
   "source": []
  },
  {
   "cell_type": "code",
   "execution_count": null,
   "id": "d92b02fc-f474-43f1-aed9-1c2c117c4967",
   "metadata": {},
   "outputs": [],
   "source": []
  },
  {
   "cell_type": "code",
   "execution_count": null,
   "id": "7d28a515-09af-4ecd-a019-ecd0c201ce5a",
   "metadata": {},
   "outputs": [],
   "source": []
  },
  {
   "cell_type": "code",
   "execution_count": null,
   "id": "3a55a95b-090d-4b40-84e6-086ab0571252",
   "metadata": {},
   "outputs": [],
   "source": []
  },
  {
   "cell_type": "code",
   "execution_count": null,
   "id": "a70c941e-5812-44ff-866e-54d1bbaccad2",
   "metadata": {},
   "outputs": [],
   "source": []
  },
  {
   "cell_type": "code",
   "execution_count": null,
   "id": "48fd749b-5f73-4e33-b5e0-08c3d727d268",
   "metadata": {},
   "outputs": [],
   "source": []
  },
  {
   "cell_type": "code",
   "execution_count": null,
   "id": "e4718ef0-9d55-421e-9e18-105fca161e05",
   "metadata": {},
   "outputs": [],
   "source": []
  },
  {
   "cell_type": "code",
   "execution_count": null,
   "id": "29126113-fe7a-4815-8e55-f1b699cd6efd",
   "metadata": {},
   "outputs": [],
   "source": []
  },
  {
   "cell_type": "code",
   "execution_count": null,
   "id": "d5e36a6a-7e0e-419b-ba33-2a300f809da0",
   "metadata": {},
   "outputs": [],
   "source": []
  },
  {
   "cell_type": "code",
   "execution_count": null,
   "id": "101d7d72-2e19-4979-b40e-961e4d6cca73",
   "metadata": {},
   "outputs": [],
   "source": []
  },
  {
   "cell_type": "code",
   "execution_count": null,
   "id": "fe4703f0-c93d-480a-83e2-68362da9cf86",
   "metadata": {},
   "outputs": [],
   "source": []
  },
  {
   "cell_type": "code",
   "execution_count": null,
   "id": "458c2d6a-5f01-41c4-85e7-2ef385d8702c",
   "metadata": {},
   "outputs": [],
   "source": []
  },
  {
   "cell_type": "code",
   "execution_count": null,
   "id": "6a11608e-b896-4943-829f-116c6e8658f2",
   "metadata": {},
   "outputs": [],
   "source": []
  },
  {
   "cell_type": "code",
   "execution_count": null,
   "id": "3e4cbf90-caa8-4d9c-aab2-c8469117cb78",
   "metadata": {},
   "outputs": [],
   "source": []
  },
  {
   "cell_type": "code",
   "execution_count": null,
   "id": "3481cfe2-6bd1-4583-be83-8b203647d6f6",
   "metadata": {},
   "outputs": [],
   "source": []
  },
  {
   "cell_type": "code",
   "execution_count": null,
   "id": "42965461-7eff-4722-8617-ce80c6c2f0fc",
   "metadata": {},
   "outputs": [],
   "source": []
  },
  {
   "cell_type": "code",
   "execution_count": null,
   "id": "607f014d-bc14-414a-8d49-46965d2f92c7",
   "metadata": {},
   "outputs": [],
   "source": []
  },
  {
   "cell_type": "code",
   "execution_count": null,
   "id": "8243060a-ce43-485d-a07d-92d1c0b4d5f3",
   "metadata": {},
   "outputs": [],
   "source": []
  },
  {
   "cell_type": "code",
   "execution_count": null,
   "id": "461ce264-a66d-4858-98d3-8207748c0953",
   "metadata": {},
   "outputs": [],
   "source": []
  }
 ],
 "metadata": {
  "kernelspec": {
   "display_name": "Python 3 (ipykernel)",
   "language": "python",
   "name": "python3"
  },
  "language_info": {
   "codemirror_mode": {
    "name": "ipython",
    "version": 3
   },
   "file_extension": ".py",
   "mimetype": "text/x-python",
   "name": "python",
   "nbconvert_exporter": "python",
   "pygments_lexer": "ipython3",
   "version": "3.12.1"
  }
 },
 "nbformat": 4,
 "nbformat_minor": 5
}
